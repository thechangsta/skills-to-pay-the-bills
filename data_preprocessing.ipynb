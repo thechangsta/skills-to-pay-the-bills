{
 "cells": [
  {
   "cell_type": "markdown",
   "id": "3014efdb",
   "metadata": {},
   "source": [
    "### Parse Dataset to get Job Titles and Corresponding Skills\n",
    "In this section, we parse the LinkedIn Skills dataset to get the job titles and associated skills we will use for our recommender system."
   ]
  },
  {
   "cell_type": "code",
   "execution_count": 6,
   "id": "b9ffb474",
   "metadata": {},
   "outputs": [],
   "source": [
    "# import job skill data\n",
    "import pandas as pd\n",
    "df = pd.read_csv('data/job_skills.csv')"
   ]
  },
  {
   "cell_type": "code",
   "execution_count": 7,
   "id": "5d5ea5c9",
   "metadata": {},
   "outputs": [
    {
     "data": {
      "text/html": [
       "<div>\n",
       "<style scoped>\n",
       "    .dataframe tbody tr th:only-of-type {\n",
       "        vertical-align: middle;\n",
       "    }\n",
       "\n",
       "    .dataframe tbody tr th {\n",
       "        vertical-align: top;\n",
       "    }\n",
       "\n",
       "    .dataframe thead th {\n",
       "        text-align: right;\n",
       "    }\n",
       "</style>\n",
       "<table border=\"1\" class=\"dataframe\">\n",
       "  <thead>\n",
       "    <tr style=\"text-align: right;\">\n",
       "      <th></th>\n",
       "      <th>job_link</th>\n",
       "      <th>job_skills</th>\n",
       "    </tr>\n",
       "  </thead>\n",
       "  <tbody>\n",
       "    <tr>\n",
       "      <th>0</th>\n",
       "      <td>https://www.linkedin.com/jobs/view/housekeeper...</td>\n",
       "      <td>Building Custodial Services, Cleaning, Janitor...</td>\n",
       "    </tr>\n",
       "    <tr>\n",
       "      <th>1</th>\n",
       "      <td>https://www.linkedin.com/jobs/view/assistant-g...</td>\n",
       "      <td>Customer service, Restaurant management, Food ...</td>\n",
       "    </tr>\n",
       "    <tr>\n",
       "      <th>2</th>\n",
       "      <td>https://www.linkedin.com/jobs/view/school-base...</td>\n",
       "      <td>Applied Behavior Analysis (ABA), Data analysis...</td>\n",
       "    </tr>\n",
       "    <tr>\n",
       "      <th>3</th>\n",
       "      <td>https://www.linkedin.com/jobs/view/electrical-...</td>\n",
       "      <td>Electrical Engineering, Project Controls, Sche...</td>\n",
       "    </tr>\n",
       "    <tr>\n",
       "      <th>4</th>\n",
       "      <td>https://www.linkedin.com/jobs/view/electrical-...</td>\n",
       "      <td>Electrical Assembly, Point to point wiring, St...</td>\n",
       "    </tr>\n",
       "  </tbody>\n",
       "</table>\n",
       "</div>"
      ],
      "text/plain": [
       "                                            job_link  \\\n",
       "0  https://www.linkedin.com/jobs/view/housekeeper...   \n",
       "1  https://www.linkedin.com/jobs/view/assistant-g...   \n",
       "2  https://www.linkedin.com/jobs/view/school-base...   \n",
       "3  https://www.linkedin.com/jobs/view/electrical-...   \n",
       "4  https://www.linkedin.com/jobs/view/electrical-...   \n",
       "\n",
       "                                          job_skills  \n",
       "0  Building Custodial Services, Cleaning, Janitor...  \n",
       "1  Customer service, Restaurant management, Food ...  \n",
       "2  Applied Behavior Analysis (ABA), Data analysis...  \n",
       "3  Electrical Engineering, Project Controls, Sche...  \n",
       "4  Electrical Assembly, Point to point wiring, St...  "
      ]
     },
     "execution_count": 7,
     "metadata": {},
     "output_type": "execute_result"
    }
   ],
   "source": [
    "df.head()"
   ]
  },
  {
   "cell_type": "code",
   "execution_count": 8,
   "id": "c4314cb1",
   "metadata": {
    "scrolled": false
   },
   "outputs": [
    {
     "name": "stdout",
     "output_type": "stream",
     "text": [
      "https://www.linkedin.com/jobs/view/housekeeper-i-pt-at-jacksonville-state-university-3802280436\n",
      "https://www.linkedin.com/jobs/view/assistant-general-manager-huntington-4131-at-ruby-tuesday-3575032747\n",
      "https://www.linkedin.com/jobs/view/school-based-behavior-analyst-at-ccres-educational-and-behavioral-health-services-3739544400\n",
      "https://www.linkedin.com/jobs/view/electrical-deputy-engineering-group-supervisor-at-energy-jobline-3773709557\n",
      "https://www.linkedin.com/jobs/view/electrical-assembly-lead-at-sanmina-3704300377\n",
      "https://www.linkedin.com/jobs/view/senior-lead-technician-programmer-at-security-101-3785441848\n",
      "https://www.linkedin.com/jobs/view/program-consultant-at-methodist-family-health-3588621456\n",
      "https://www.linkedin.com/jobs/view/veterinary-receptionist-at-wellhaven-pet-health-3803807922\n",
      "https://www.linkedin.com/jobs/view/sr-technician-receiving-inspection-at-abbott-3799867135\n",
      "https://www.linkedin.com/jobs/view/experienced-hvac-service-technician-at-lane-valente-industries-3798208587\n"
     ]
    }
   ],
   "source": [
    "# first few job links\n",
    "for i in range(10):\n",
    "    print(df[\"job_link\"][i])"
   ]
  },
  {
   "cell_type": "code",
   "execution_count": 9,
   "id": "e3f59800",
   "metadata": {},
   "outputs": [
    {
     "name": "stdout",
     "output_type": "stream",
     "text": [
      "1296381\n",
      "1294346\n"
     ]
    }
   ],
   "source": [
    "# drop rows that are nan\n",
    "print(len(df))\n",
    "df = df[df['job_skills'].notna()]\n",
    "print(len(df))"
   ]
  },
  {
   "cell_type": "code",
   "execution_count": 10,
   "id": "eabdee81",
   "metadata": {},
   "outputs": [],
   "source": [
    "# function to parse job title from linkedin link\n",
    "def extract_title(link):\n",
    "    # split along /\n",
    "    title_text = link.split('/')[-1]\n",
    "    # split title text along -\n",
    "    title_text_split = title_text.split('-')\n",
    "    try:\n",
    "        # get index of at\n",
    "        at_index = title_text_split.index('at')\n",
    "        # return capitlized version of every word that is part of title\n",
    "        return ' '.join([word.capitalize() for word in title_text_split[:at_index]])\n",
    "    except:\n",
    "        return ' '.join([word.capitalize() for word in title_text_split])"
   ]
  },
  {
   "cell_type": "code",
   "execution_count": 11,
   "id": "fbcc5dfe",
   "metadata": {},
   "outputs": [
    {
     "name": "stdout",
     "output_type": "stream",
     "text": [
      "Housekeeper I Pt\n",
      "Assistant General Manager Huntington 4131\n",
      "School Based Behavior Analyst\n",
      "Electrical Deputy Engineering Group Supervisor\n",
      "Electrical Assembly Lead\n",
      "Senior Lead Technician Programmer\n",
      "Program Consultant\n",
      "Veterinary Receptionist\n",
      "Sr Technician Receiving Inspection\n",
      "Experienced Hvac Service Technician\n"
     ]
    }
   ],
   "source": [
    "# test job link parsing\n",
    "for i in range(10):\n",
    "    print(extract_title(df[\"job_link\"][i]))"
   ]
  },
  {
   "cell_type": "code",
   "execution_count": 12,
   "id": "50340f31",
   "metadata": {},
   "outputs": [],
   "source": [
    "# apply job title parsing to dataframe\n",
    "df['job_title'] = df['job_link'].apply(extract_title)"
   ]
  },
  {
   "cell_type": "code",
   "execution_count": 13,
   "id": "609639ed",
   "metadata": {},
   "outputs": [
    {
     "data": {
      "text/html": [
       "<div>\n",
       "<style scoped>\n",
       "    .dataframe tbody tr th:only-of-type {\n",
       "        vertical-align: middle;\n",
       "    }\n",
       "\n",
       "    .dataframe tbody tr th {\n",
       "        vertical-align: top;\n",
       "    }\n",
       "\n",
       "    .dataframe thead th {\n",
       "        text-align: right;\n",
       "    }\n",
       "</style>\n",
       "<table border=\"1\" class=\"dataframe\">\n",
       "  <thead>\n",
       "    <tr style=\"text-align: right;\">\n",
       "      <th></th>\n",
       "      <th>job_title</th>\n",
       "      <th>job_skills</th>\n",
       "    </tr>\n",
       "  </thead>\n",
       "  <tbody>\n",
       "    <tr>\n",
       "      <th>0</th>\n",
       "      <td>Housekeeper I Pt</td>\n",
       "      <td>Building Custodial Services, Cleaning, Janitor...</td>\n",
       "    </tr>\n",
       "    <tr>\n",
       "      <th>1</th>\n",
       "      <td>Assistant General Manager Huntington 4131</td>\n",
       "      <td>Customer service, Restaurant management, Food ...</td>\n",
       "    </tr>\n",
       "    <tr>\n",
       "      <th>2</th>\n",
       "      <td>School Based Behavior Analyst</td>\n",
       "      <td>Applied Behavior Analysis (ABA), Data analysis...</td>\n",
       "    </tr>\n",
       "    <tr>\n",
       "      <th>3</th>\n",
       "      <td>Electrical Deputy Engineering Group Supervisor</td>\n",
       "      <td>Electrical Engineering, Project Controls, Sche...</td>\n",
       "    </tr>\n",
       "    <tr>\n",
       "      <th>4</th>\n",
       "      <td>Electrical Assembly Lead</td>\n",
       "      <td>Electrical Assembly, Point to point wiring, St...</td>\n",
       "    </tr>\n",
       "  </tbody>\n",
       "</table>\n",
       "</div>"
      ],
      "text/plain": [
       "                                        job_title  \\\n",
       "0                                Housekeeper I Pt   \n",
       "1       Assistant General Manager Huntington 4131   \n",
       "2                   School Based Behavior Analyst   \n",
       "3  Electrical Deputy Engineering Group Supervisor   \n",
       "4                        Electrical Assembly Lead   \n",
       "\n",
       "                                          job_skills  \n",
       "0  Building Custodial Services, Cleaning, Janitor...  \n",
       "1  Customer service, Restaurant management, Food ...  \n",
       "2  Applied Behavior Analysis (ABA), Data analysis...  \n",
       "3  Electrical Engineering, Project Controls, Sche...  \n",
       "4  Electrical Assembly, Point to point wiring, St...  "
      ]
     },
     "execution_count": 13,
     "metadata": {},
     "output_type": "execute_result"
    }
   ],
   "source": [
    "job_title_skills_df = df[[\"job_title\",\"job_skills\"]]\n",
    "job_title_skills_df.head()"
   ]
  },
  {
   "cell_type": "code",
   "execution_count": 14,
   "id": "59c448c2",
   "metadata": {},
   "outputs": [],
   "source": [
    "# save title + skills dataframe\n",
    "job_title_skills_df.to_csv(\"data/skills.csv\")"
   ]
  },
  {
   "cell_type": "markdown",
   "id": "77e4f0de",
   "metadata": {},
   "source": [
    "### Get Skills Embeddings Dataset\n",
    "After we extract the job titles and skills, we convert each vector of skills into an embedding using BERT. The code below is adapted from:\n",
    "https://www.geeksforgeeks.org/how-to-generate-word-embedding-using-bert/"
   ]
  },
  {
   "cell_type": "code",
   "execution_count": 15,
   "id": "e95b935f",
   "metadata": {
    "scrolled": true
   },
   "outputs": [
    {
     "name": "stdout",
     "output_type": "stream",
     "text": [
      "Requirement already satisfied: transformers in c:\\users\\mlchang\\anaconda3\\lib\\site-packages (4.39.3)\n",
      "Requirement already satisfied: filelock in c:\\users\\mlchang\\anaconda3\\lib\\site-packages (from transformers) (3.3.1)\n",
      "Requirement already satisfied: huggingface-hub<1.0,>=0.19.3 in c:\\users\\mlchang\\anaconda3\\lib\\site-packages (from transformers) (0.22.2)\n",
      "Requirement already satisfied: numpy>=1.17 in c:\\users\\mlchang\\anaconda3\\lib\\site-packages (from transformers) (1.22.4)\n",
      "Requirement already satisfied: packaging>=20.0 in c:\\users\\mlchang\\anaconda3\\lib\\site-packages (from transformers) (21.0)\n",
      "Requirement already satisfied: pyyaml>=5.1 in c:\\users\\mlchang\\anaconda3\\lib\\site-packages (from transformers) (6.0)\n",
      "Requirement already satisfied: regex!=2019.12.17 in c:\\users\\mlchang\\anaconda3\\lib\\site-packages (from transformers) (2021.8.3)\n",
      "Requirement already satisfied: requests in c:\\users\\mlchang\\anaconda3\\lib\\site-packages (from transformers) (2.26.0)\n",
      "Requirement already satisfied: tokenizers<0.19,>=0.14 in c:\\users\\mlchang\\anaconda3\\lib\\site-packages (from transformers) (0.15.2)\n",
      "Requirement already satisfied: safetensors>=0.4.1 in c:\\users\\mlchang\\anaconda3\\lib\\site-packages (from transformers) (0.4.2)\n",
      "Requirement already satisfied: tqdm>=4.27 in c:\\users\\mlchang\\anaconda3\\lib\\site-packages (from transformers) (4.62.3)\n",
      "Requirement already satisfied: fsspec>=2023.5.0 in c:\\users\\mlchang\\anaconda3\\lib\\site-packages (from huggingface-hub<1.0,>=0.19.3->transformers) (2024.3.1)\n",
      "Requirement already satisfied: typing-extensions>=3.7.4.3 in c:\\users\\mlchang\\anaconda3\\lib\\site-packages (from huggingface-hub<1.0,>=0.19.3->transformers) (4.4.0)\n",
      "Requirement already satisfied: pyparsing>=2.0.2 in c:\\users\\mlchang\\anaconda3\\lib\\site-packages (from packaging>=20.0->transformers) (3.0.4)\n",
      "Requirement already satisfied: colorama in c:\\users\\mlchang\\anaconda3\\lib\\site-packages (from tqdm>=4.27->transformers) (0.4.4)\n",
      "Requirement already satisfied: urllib3<1.27,>=1.21.1 in c:\\users\\mlchang\\anaconda3\\lib\\site-packages (from requests->transformers) (1.26.18)\n",
      "Requirement already satisfied: certifi>=2017.4.17 in c:\\users\\mlchang\\anaconda3\\lib\\site-packages (from requests->transformers) (2021.10.8)\n",
      "Requirement already satisfied: charset-normalizer~=2.0.0 in c:\\users\\mlchang\\anaconda3\\lib\\site-packages (from requests->transformers) (2.0.4)\n",
      "Requirement already satisfied: idna<4,>=2.5 in c:\\users\\mlchang\\anaconda3\\lib\\site-packages (from requests->transformers) (3.2)\n"
     ]
    },
    {
     "name": "stderr",
     "output_type": "stream",
     "text": [
      "DEPRECATION: pyodbc 4.0.0-unsupported has a non-standard version number. pip 24.0 will enforce this behaviour change. A possible replacement is to upgrade to a newer version of pyodbc or contact the author to suggest that they release a version with a conforming version number. Discussion can be found at https://github.com/pypa/pip/issues/12063\n",
      "\n",
      "[notice] A new release of pip is available: 23.3.1 -> 24.0\n",
      "[notice] To update, run: python.exe -m pip install --upgrade pip\n"
     ]
    }
   ],
   "source": [
    "!pip install transformers"
   ]
  },
  {
   "cell_type": "code",
   "execution_count": 16,
   "id": "174f19d8",
   "metadata": {},
   "outputs": [],
   "source": [
    "from transformers import BertTokenizer, BertModel\n",
    "import torch\n",
    "\n",
    "# load BERT\n",
    "tokenizer = BertTokenizer.from_pretrained('bert-base-uncased')\n",
    "model = BertModel.from_pretrained('bert-base-uncased')\n",
    "\n",
    "# function to get word embeddings\n",
    "def get_BERT_embedding(text):\n",
    "    # tokenize input\n",
    "    encoding = tokenizer(text,\n",
    "                       return_tensors='pt',\n",
    "                       padding=True,\n",
    "                       truncation=True)\n",
    "    input_ids = encoding['input_ids'].to(device)\n",
    "    mask = encoding['attention_mask'].to(device)\n",
    "    # generate embedding\n",
    "    with torch.no_grad():\n",
    "        outputs = model(input_ids, attention_mask=mask)\n",
    "        embeddings = outputs.last_hidden_state.mean(dim=1).cpu().numpy()\n",
    "    return embeddings\n",
    "\n",
    "# set device to GPU\n",
    "device = torch.device('cuda' if torch.cuda.is_available() else 'cpu')\n",
    "print(device)\n",
    "# put model on GPU (is done in-place)\n",
    "model.to(device)"
   ]
  },
  {
   "cell_type": "markdown",
   "id": "302c2102",
   "metadata": {},
   "source": [
    "Example Cosine Similarity"
   ]
  },
  {
   "cell_type": "code",
   "execution_count": 17,
   "id": "eff35113",
   "metadata": {},
   "outputs": [
    {
     "data": {
      "text/plain": [
       "array([[0.7513383]], dtype=float32)"
      ]
     },
     "execution_count": 17,
     "metadata": {},
     "output_type": "execute_result"
    }
   ],
   "source": [
    "from sklearn.metrics.pairwise import cosine_similarity\n",
    "\n",
    "# Example skill\n",
    "text = \"Python coding, data analysis\"\n",
    "\n",
    "# Extract embeddings\n",
    "emb1 = get_BERT_embedding(text)\n",
    "\n",
    "\n",
    "text = \"Snake programming, information science\"\n",
    "emb2 = get_BERT_embedding(text)\n",
    "\n",
    "cosine_similarity(emb1, emb2)"
   ]
  },
  {
   "cell_type": "code",
   "execution_count": null,
   "id": "4823128c",
   "metadata": {},
   "outputs": [],
   "source": [
    "df = job_title_skills_df"
   ]
  },
  {
   "cell_type": "code",
   "execution_count": null,
   "id": "53736471",
   "metadata": {},
   "outputs": [],
   "source": [
    "# drop rows that are nan\n",
    "print(len(df))\n",
    "df = df.dropna()\n",
    "print(len(df))"
   ]
  },
  {
   "cell_type": "markdown",
   "id": "60b9ceb3",
   "metadata": {},
   "source": [
    "Getting BERT embeddings takes a while!"
   ]
  },
  {
   "cell_type": "code",
   "execution_count": null,
   "id": "292d7aa7",
   "metadata": {},
   "outputs": [],
   "source": [
    "# convert skills to embeddings in dataframe\n",
    "from tqdm import tqdm\n",
    "tqdm.pandas()\n",
    "df['skill_embedding'] = df['job_skills'].progress_apply(get_BERT_embedding)"
   ]
  },
  {
   "cell_type": "markdown",
   "id": "aa4beb5c",
   "metadata": {},
   "source": [
    "Saving skills embeddings to .pkl"
   ]
  },
  {
   "cell_type": "code",
   "execution_count": null,
   "id": "4ed506c1",
   "metadata": {},
   "outputs": [],
   "source": [
    "df.to_pickle('skill.pickle')"
   ]
  }
 ],
 "metadata": {
  "kernelspec": {
   "display_name": "Python 3 (ipykernel)",
   "language": "python",
   "name": "python3"
  },
  "language_info": {
   "codemirror_mode": {
    "name": "ipython",
    "version": 3
   },
   "file_extension": ".py",
   "mimetype": "text/x-python",
   "name": "python",
   "nbconvert_exporter": "python",
   "pygments_lexer": "ipython3",
   "version": "3.9.7"
  }
 },
 "nbformat": 4,
 "nbformat_minor": 5
}
